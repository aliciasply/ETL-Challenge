{
 "cells": [
  {
   "cell_type": "markdown",
   "metadata": {},
   "source": [
    "## 12-Web-Scraping-and-Document-Databases - Day 1 - Mastering MongoDB"
   ]
  },
  {
   "cell_type": "markdown",
   "metadata": {},
   "source": [
    "### Class Objectives\n",
    "\n",
    "* `Create` and `connect` to local MongoDB databases\n",
    "* `Create`, `read`, `update`, and `delete` MongoDB documents using the Mongo Shell\n",
    "* Create simple Python applications that `connect to` and `modify` MongoDB databases using the PyMongo library\n"
   ]
  },
  {
   "cell_type": "markdown",
   "metadata": {},
   "source": [
    "### Resorces:\n",
    "* [The difference between NoSQL and SQL](https://www.geeksforgeeks.org/difference-between-sql-and-nosql/)\n",
    "* [Great 7 min read on NoSQL](https://medium.com/better-programming/introduction-to-nosql-databases-7f6ed6e055c5)\n",
    "* [Mongo in 30 minutes](https://www.youtube.com/watch?v=pWbMrx5rVBE)\n",
    "* [Python Requests](http://docs.python-requests.org/en/master/)\n",
    "* [Webscraping with BeautifulSoup](https://www.dataquest.io/blog/web-scraping-tutorial-python/)\n",
    "* [Python Splinter](https://splinter.readthedocs.io/en/latest/)"
   ]
  },
  {
   "cell_type": "markdown",
   "metadata": {},
   "source": [
    "### Install:\n",
    "* [MongoDB download](https://www.mongodb.com/download-center/community)\n",
    "* [Install MongoDB on OS-x](https://docs.mongodb.com/manual/tutorial/install-mongodb-on-os-x/)\n",
    "* Windows: Add MongoDB to your PATH `C:\\Program Files\\MongoDB\\Server\\4.4\\bin`\n",
    "* `conda install pymongo -y` (Run as Administrator)\n",
    "* `pip install pymongo`\n"
   ]
  },
  {
   "cell_type": "markdown",
   "metadata": {},
   "source": [
    "### Add MongoDB to Windows PATH:\n",
    "\n",
    "* Make sure to copy the correct path to your MongoDB bin path like `C:\\Program Files\\MongoDB\\Server\\4.4\\bin`\n",
    "\n",
    "![windows_path_windows_01.png](images/windows_path_windows_01.png)\n",
    "\n",
    "![windows_path_windows_02.png](images/windows_path_windows_02.png)\n",
    "\n",
    "![windows_path_windows_03.png](images/windows_path_windows_03.png)\n",
    "\n"
   ]
  },
  {
   "cell_type": "markdown",
   "metadata": {},
   "source": [
    "# =========================================="
   ]
  },
  {
   "cell_type": "markdown",
   "metadata": {},
   "source": [
    "### 1.01 Instructor Do: Basic MongoDB Queries (0:15)"
   ]
  },
  {
   "cell_type": "markdown",
   "metadata": {},
   "source": [
    "# Query 1 - Creating dbs, inserting data and finding data\n",
    "\n",
    "* Start up a new database by switching to it. The db does not exist until you create a collection.\n",
    "\n",
    "```\n",
    "use travel_db\n",
    "```\n",
    "\n",
    "* Show the current db by running db.\n",
    "\n",
    "```\n",
    "db\n",
    "```\n",
    "\n",
    "* Show current databases in existence\n",
    "\n",
    "```\n",
    "show dbs\n",
    "```\n",
    "\n",
    "* Create a collection\n",
    "\n",
    "```\n",
    "db.createCollection(\"destinations\")\n",
    "```\n",
    "\n",
    "* See all collections in a database\n",
    "\n",
    "```\n",
    "show collections\n",
    "```\n",
    "\n",
    "* Insert data into the travel_db database with this command.\n",
    "\n",
    "  - NOTE: This will also create the collection automatically, the contents of the insert are basically a JavaScript object, and include an array.\n",
    "\n",
    "```\n",
    "db.destinations.insert({\"continent\": \"Africa\", \"country\": \"Morocco\",\n",
    "                        \"major_cities\": [\"Casablanca\", \"Fez\", \"Marrakech\"]})\n",
    "```\n",
    "\n",
    "* As a class, come up with 3-5 more countries and insert them into the db using the same syntax as above.\n",
    "\n",
    "```\n",
    "db.destinations.insert({\"continent\": \"Europe\", \"country\": \"France\",\n",
    "                        \"major_cities\": [\"Paris\", \"Marseille\", \"Bordeaux\"]})\n",
    "\n",
    "db.destinations.insert({\"continent\": \"North America\", \"country\": \"USA\",\n",
    "                        \"major_cities\": [\"Washington DC\", \"New York City\", \"San Francisco\"]})\n",
    "```\n",
    "\n",
    "* Observe where the data was entered in the MongoDB instance (in mongod)\n",
    "\n",
    "* Find all data in a Collection with `db.[COLLECTION_NAME].find()`\n",
    "\n",
    "  - The MongoDB \\_id was created automatically.\n",
    "\n",
    "  - This id is specific for each doc in the collection.\n",
    "\n",
    "```\n",
    "db.destinations.find()\n",
    "```\n",
    "\n",
    "* Adding .pretty() makes the data more readable.\n",
    "\n",
    "```\n",
    "db.destinations.find().pretty()\n",
    "```\n",
    "\n",
    "* Find specific data by matching a field.\n",
    "\n",
    "```\n",
    "db.destinations.find({\"continent\": \"Africa\"})\n",
    "db.destinations.find({\"country\": \"Morocco\"})\n",
    "```\n",
    "\n",
    "* Try a few queries with the examples we came up with as a class.\n",
    "\n",
    "  - Also, pick something that will find more than one entry so we can see how it will return all matches.\n",
    "\n",
    "  - Find specific data by matching an \\_id.\n",
    "\n",
    "```\n",
    "db.destinations.find({_id: ObjectId(\"<ID Number Here>\")})\n",
    "\n",
    "db.destinations.find({_id: ObjectId(\"5416fe1d94bcf86cd785439036\")})\n",
    "```\n"
   ]
  },
  {
   "cell_type": "markdown",
   "metadata": {},
   "source": [
    "# =========================================="
   ]
  },
  {
   "cell_type": "markdown",
   "metadata": {},
   "source": [
    "### 1.02 Students Do: Mongo Class (0:10)"
   ]
  },
  {
   "cell_type": "markdown",
   "metadata": {},
   "source": [
    "## Instructions\n",
    "\n",
    "* Use the command line to create a `ClassDB` database\n",
    "\n",
    "* Insert entries into this database for yourself and the people around you within a collection called `students`\n",
    "\n",
    "* Each document should have a field of `name` with the person's name, a field of `favoriteLibrary` for the person's favorite Python library, a field of `age` for the person's age, and a field of `hobbies` which will hold a list of that person's hobbies.\n",
    "\n",
    "* Use the `find()` commands to get a list of everyone of a specific age before using `name` to collect the entry for a single person.\n"
   ]
  },
  {
   "cell_type": "markdown",
   "metadata": {},
   "source": [
    "# Solution"
   ]
  },
  {
   "cell_type": "markdown",
   "metadata": {},
   "source": [
    "## A. Use the command line to create a classDB database.\n",
    "\n",
    "* Insert entries for yourself and the people in your row in a classroom collection. Each document should have:\n",
    "\n",
    "1. A field of name with the person's name.\n",
    "2. A field of the person's favorite Python library, e.g. pandas.\n",
    "3. A field of a list of the person's hobbies .\n"
   ]
  },
  {
   "cell_type": "markdown",
   "metadata": {},
   "source": [
    "## Example:\n",
    "\n",
    "```\n",
    "# Select the database\n",
    "use classDB\n",
    "\n",
    "# Insert a document\n",
    "db.classroom.insert({name: 'Mariah', age: 23, favorite_python_library: 'Seaborn', hobbies: ['Coding', 'Reading', 'Running']})\n",
    "\n",
    "# Insert a document\n",
    "db.classroom.insert({name: 'Ricky', age: 34, favorite_python_library: 'Matplotlib', hobbies: ['Not Coding', 'Not Reading', 'Not Running', 'Guitar']})\n",
    "\n",
    "# Insert a document\n",
    "db.classroom.insert({name: 'Srikanth', age: 28, favorite_python_library: 'Pandas', hobbies: ['Netflix', 'Guitar', 'Traveling']})\n",
    "```"
   ]
  },
  {
   "cell_type": "markdown",
   "metadata": {},
   "source": [
    "## B. Use find commands to get:\n",
    "\n",
    "1. A list of everyone of a certain age.\n",
    "\n",
    "\n",
    "```\n",
    "db.classroom.find({age: 23}).pretty()\n",
    "```\n",
    "\n",
    "2. An entry for a single person.\n",
    "\n",
    "\n",
    "```\n",
    "db.classroom.find({name: 'Ricky'}).pretty()\n",
    "```"
   ]
  },
  {
   "cell_type": "markdown",
   "metadata": {},
   "source": [
    "# =========================================="
   ]
  },
  {
   "cell_type": "markdown",
   "metadata": {},
   "source": [
    "### 1.03 Instructor Do: Removing, Updating and Dropping in MongoDB (0:10)"
   ]
  },
  {
   "cell_type": "markdown",
   "metadata": {},
   "source": [
    "# Update, Delete and Drop in MongoDB"
   ]
  },
  {
   "cell_type": "markdown",
   "metadata": {},
   "source": [
    "* Use the travel_db\n",
    "\n",
    "```shell\n",
    "db\n",
    "use travel_db\n",
    "```"
   ]
  },
  {
   "cell_type": "markdown",
   "metadata": {},
   "source": [
    "* Insert two countries in Africa\n",
    "\n",
    "```shell\n",
    "db.destinations.insert({'country': 'Egypt', 'continent': 'Africa', major_cities: ['Cairo', 'Luxor']})\n",
    "db.destinations.insert({'country': 'Nigeria', 'continent': 'Africa', major_cities: ['Lagos', 'Kano']})\n",
    "```"
   ]
  },
  {
   "cell_type": "markdown",
   "metadata": {},
   "source": [
    "* Update data using `db.[COLLECTION_NAME].update()`\n",
    "\n",
    "```sql\n",
    "UPDATE destinations SET \"continent\"='Antarctica' WHERE \"country\"= 'Egypt' LIMIT 1\n",
    "```\n",
    "\n",
    "```shell\n",
    "db.destinations.update({\"country\": \"Egypt\"}, {$set: {\"continent\": \"Antarctica\"}})\n",
    "```\n",
    "* Note that the above will only update the first entry it matches."
   ]
  },
  {
   "cell_type": "markdown",
   "metadata": {},
   "source": [
    "* To update multiple entries, you can add `{multi:true}`, all countries listed as being in Africa will now show Antarctica as their continent\n",
    "\n",
    "```sql\n",
    "UPDATE destinations SET \"continent\"='Antarctica' WHERE \"country\"= 'Egypt'\n",
    "```\n",
    "\n",
    "```shell\n",
    "db.destinations.update({\"continent\": \"Africa\"}, {$set: {\"continent\": \"Antarctica\"}}, {multi: true})\n",
    "```\n",
    "\n",
    "* Alternatively, we can use this syntax to update more than one record.\n",
    "\n",
    "```shell\n",
    "db.destinations.updateMany({\"continent\": \"Africa\"}, {$set: {\"continent\": \"Antarctica\"}})\n",
    "```"
   ]
  },
  {
   "cell_type": "markdown",
   "metadata": {},
   "source": [
    "* Q: What you think will happen when you run this command, even though a capital doesn't exist?\n",
    "\n",
    "```shell\n",
    "db.destinations.update({\"country\": \"Morocco\"}, {$set: {\"capital\": \"Rabat\"}})\n",
    "```\n",
    "\n",
    "* A: it will add the capital field to the document and show the field can now be updated with the same command.\n",
    "\n",
    "```shell\n",
    "db.destinations.update({\"country\": \"Morocco\"}, {$set: {\"capital\": \"RABAT\"}})\n",
    "```"
   ]
  },
  {
   "cell_type": "markdown",
   "metadata": {},
   "source": [
    "* Push to an array with `$push`.\n",
    "\n",
    "```shell\n",
    "db.destinations.update({\"country\": \"Morocco\"}, {$push: {\"major_cities\": \"Agadir\"}})\n",
    "```"
   ]
  },
  {
   "cell_type": "markdown",
   "metadata": {},
   "source": [
    "* The upsert option updates a document if one exists; it otherwise creates a new document.\n",
    "\n",
    "```shell\n",
    "db.destinations.update({'country': 'Canada'}, {$set: {'capital': 'Ottawa'}}, {upsert: true})\n",
    "```"
   ]
  },
  {
   "cell_type": "markdown",
   "metadata": {},
   "source": [
    "* Delete an entry with `db.[COLLECTION_NAME].remove({justOne: true})`.\n",
    "\n",
    "```shell\n",
    "db.destinations.remove({\"country\": \"Morocco\"}, {justOne: true})\n",
    "```"
   ]
  },
  {
   "cell_type": "markdown",
   "metadata": {},
   "source": [
    "* Empty a collection with `db.[COLLECTION_NAME].remove()`.\n",
    "\n",
    "```shell\n",
    "db.destinations.remove({})\n",
    "```"
   ]
  },
  {
   "cell_type": "markdown",
   "metadata": {},
   "source": [
    "* Drop a collection with `db.[COLLECTION_NAME].drop()`.\n",
    "\n",
    "```shell\n",
    "db.destinations.drop()\n",
    "```"
   ]
  },
  {
   "cell_type": "markdown",
   "metadata": {},
   "source": [
    "* Drop a database\n",
    "\n",
    "```shell\n",
    "db.dropDatabase()\n",
    "```"
   ]
  },
  {
   "cell_type": "markdown",
   "metadata": {},
   "source": [
    "# =========================================="
   ]
  },
  {
   "cell_type": "markdown",
   "metadata": {},
   "source": [
    "### 1.04 Students Do: Dumpster DB (0:15)"
   ]
  },
  {
   "cell_type": "markdown",
   "metadata": {},
   "source": [
    "## Instructions\n",
    "\n",
    "* Create and use a new database called `Dumpster_DB` using the Mongo shell.\n",
    "\n",
    "* Create a collection called `divers` which will contain a string field for `name`, an integer field for `yearsDiving`, a boolean field for `stillDiving`, and an array of strings for `bestFinds`.\n",
    "\n",
    "* Insert three new documents into the collection. Be creative with what you put in here and have some fun with it.\n",
    "\n",
    "* Update the `yearsDiving` fields for your documents so that they are one greater than their original values.\n",
    "\n",
    "* Update the `stillDiving` value for one of the documents so that it is now false.\n",
    "\n",
    "* Push a new value into the `bestFinds` array for one of the documents.\n",
    "\n",
    "* Look through the collection, find the diver with the smallest number of `bestFinds`, and remove it from the collection.\n"
   ]
  },
  {
   "cell_type": "markdown",
   "metadata": {},
   "source": [
    "# Solution"
   ]
  },
  {
   "cell_type": "markdown",
   "metadata": {},
   "source": [
    "* Create and use a database called `Dumpster_DB`.\n",
    "\n",
    "```\n",
    "use Dumpster_DB\n",
    "```"
   ]
  },
  {
   "cell_type": "markdown",
   "metadata": {},
   "source": [
    "* Create the `divers` collection and then insert a couple documents into it\n",
    "\n",
    "```python\n",
    "db.divers.insert({\"name\":\"Davey\", \"yearsDiving\":10, \"stillDiving\": true, \"bestFinds\":[\"Flat Screen\", \"Ruby Collar\", \"$100\"]})\n",
    "\n",
    "db.divers.insert({\"name\":\"Jeanie\", \"yearsDiving\":1, \"stillDiving\": true, \"bestFinds\":[\"Movie Theater Chairs\", \"Music Box\"]})\n",
    "\n",
    "db.divers.insert({\"name\":\"Boppo\", \"yearsDiving\":5, \"stillDiving\": true, \"bestFinds\":[\"Half-Eaten Hamburger\", \"Some Goop\"]})\n",
    "```"
   ]
  },
  {
   "cell_type": "markdown",
   "metadata": {},
   "source": [
    "* Update `yearsDiving` so that it is one year higher for each diver\n",
    "\n",
    "```python\n",
    "db.divers.update({\"name\":\"Davey\"},{$set:{\"yearsDiving\":11}})\n",
    "db.divers.update({\"name\":\"Jeanie\"},{$set:{\"yearsDiving\":2}})\n",
    "db.divers.update({\"name\":\"Boppo\"},{$set:{\"yearsDiving\":6}})\n",
    "```"
   ]
  },
  {
   "cell_type": "markdown",
   "metadata": {},
   "source": [
    "* Update `stillDiving` to False for Davey\n",
    "\n",
    "```python\n",
    "db.divers.update({\"name\":\"Davey\"},{$set:{\"stillDiving\": false}})\n",
    "```"
   ]
  },
  {
   "cell_type": "markdown",
   "metadata": {},
   "source": [
    "* Add a new value to Jeanie's `bestFinds`\n",
    "\n",
    "```python\n",
    "db.divers.update({\"name\":\"Jeanie\"},{$push:{\"bestFinds\":\"Mona Lisa\"}})\n",
    "```"
   ]
  },
  {
   "cell_type": "markdown",
   "metadata": {},
   "source": [
    "* Remove `Boppo` from the collection\n",
    "\n",
    "```python\n",
    "db.divers.remove({\"name\":\"Boppo\"})\n",
    "```"
   ]
  },
  {
   "cell_type": "markdown",
   "metadata": {},
   "source": [
    "# =========================================="
   ]
  },
  {
   "cell_type": "markdown",
   "metadata": {},
   "source": [
    "### 1.04.2 Instructor Do: Mongo Compass (0:10)"
   ]
  },
  {
   "cell_type": "markdown",
   "metadata": {},
   "source": [
    "* Download [MongoDB Compass](https://www.mongodb.com/products/compass) if you didn't already installed MongoDB Compass during your installation of MongoDB Server."
   ]
  },
  {
   "cell_type": "markdown",
   "metadata": {},
   "source": [
    "![Mongo Compass Connect](1/Images/07-MongoCompass_Connect.png)"
   ]
  },
  {
   "cell_type": "markdown",
   "metadata": {},
   "source": [
    "* After hitting `CONNECT` button, you should be able to view a list of all of the MongoDB databases hosted on your localhost server."
   ]
  },
  {
   "cell_type": "markdown",
   "metadata": {},
   "source": [
    "* Clicking on a database's name will take you to a list of all of the collections stored on that database.\n",
    "* Clicking on a collection name will then take you into a view in which you can peruse all of that collection's documents."
   ]
  },
  {
   "cell_type": "markdown",
   "metadata": {},
   "source": [
    "![Compass Docs View](1/Images/07-MongoCompass_DocsView.png)"
   ]
  },
  {
   "cell_type": "markdown",
   "metadata": {},
   "source": [
    "* When inside of the Document Viewer, you can create, read, update, and even delete data using the GUI.\n",
    "* You can also choose to view your data as a table if you really wanted to."
   ]
  },
  {
   "cell_type": "markdown",
   "metadata": {},
   "source": [
    "# =========================================="
   ]
  },
  {
   "cell_type": "markdown",
   "metadata": {},
   "source": [
    "### 1.04.3 Students Do: Compass Playground (0:05)"
   ]
  },
  {
   "cell_type": "markdown",
   "metadata": {},
   "source": [
    "* Now that MongoDB Compass installed on your computer, take some time to play around with the application."
   ]
  },
  {
   "cell_type": "markdown",
   "metadata": {},
   "source": [
    "# =========================================="
   ]
  },
  {
   "cell_type": "markdown",
   "metadata": {},
   "source": [
    "### BREAK (0:10)"
   ]
  },
  {
   "cell_type": "markdown",
   "metadata": {},
   "source": [
    "# =========================================="
   ]
  },
  {
   "cell_type": "markdown",
   "metadata": {},
   "source": [
    "### 1.05 Instructor Do: Introduction to Pymongo (0:15) "
   ]
  },
  {
   "cell_type": "markdown",
   "metadata": {},
   "source": [
    "[MongoDB Compass](https://www.mongodb.com/products/compass)"
   ]
  },
  {
   "cell_type": "code",
   "execution_count": null,
   "metadata": {},
   "outputs": [],
   "source": [
    "# !conda install pymongo -y"
   ]
  },
  {
   "cell_type": "code",
   "execution_count": null,
   "metadata": {},
   "outputs": [],
   "source": [
    "# !pip install pymongo"
   ]
  },
  {
   "cell_type": "code",
   "execution_count": 1,
   "metadata": {},
   "outputs": [],
   "source": [
    "# Module used to connect Python with MongoDb\n",
    "import pymongo"
   ]
  },
  {
   "cell_type": "code",
   "execution_count": 6,
   "metadata": {},
   "outputs": [],
   "source": [
    "# The default port used by MongoDB is 27017\n",
    "# https://docs.mongodb.com/manual/reference/default-mongodb-port/\n",
    "conn = 'mongodb://localhost:27017'\n",
    "client = pymongo.MongoClient(conn)\n",
    "\n",
    "# Define the 'classDB' database in Mongo\n",
    "db = client.ClassDB"
   ]
  },
  {
   "cell_type": "code",
   "execution_count": 7,
   "metadata": {},
   "outputs": [],
   "source": [
    "# db = client.DataClass"
   ]
  },
  {
   "cell_type": "code",
   "execution_count": 8,
   "metadata": {},
   "outputs": [],
   "source": [
    "# Query all students\n",
    "# Here, db.students refers to the collection 'classroom '\n",
    "classroom = db.classroom.find()\n",
    "\n",
    "# Iterate through each student in the collection\n",
    "for student in classroom:\n",
    "    print(student)"
   ]
  },
  {
   "cell_type": "code",
   "execution_count": 9,
   "metadata": {},
   "outputs": [
    {
     "name": "stdout",
     "output_type": "stream",
     "text": [
      "{'_id': ObjectId('5fe41b1af81430bb63ab2b0e'), 'name': 'Ahmed', 'row': 3, 'favorite_python_library': 'Matplotlib', 'hobbies': ['Running', 'Stargazing', 'Reading']}\n"
     ]
    }
   ],
   "source": [
    "# Insert a document into the 'students' collection\n",
    "db.classroom.insert_one(\n",
    "    {\n",
    "        'name': 'Ahmed',\n",
    "        'row': 3,\n",
    "        'favorite_python_library': 'Matplotlib',\n",
    "        'hobbies': ['Running', 'Stargazing', 'Reading']\n",
    "    }\n",
    ")\n",
    "\n",
    "# query the classroom collection\n",
    "classroom = db.classroom.find()\n",
    "\n",
    "# see change in collection\n",
    "for student in classroom:\n",
    "    print(student)"
   ]
  },
  {
   "cell_type": "code",
   "execution_count": 11,
   "metadata": {},
   "outputs": [
    {
     "name": "stdout",
     "output_type": "stream",
     "text": [
      "{'_id': ObjectId('5fe41b1af81430bb63ab2b0e'), 'name': 'Ahmed', 'row': 4, 'favorite_python_library': 'Matplotlib', 'hobbies': ['Running', 'Stargazing', 'Reading']}\n"
     ]
    }
   ],
   "source": [
    "# Update a document\n",
    "db.classroom.update_one(\n",
    "    {'name': 'Ahmed'},\n",
    "    {'$set':\n",
    "        {'row': 4}\n",
    "     }\n",
    ")\n",
    "\n",
    "# query the classroom collection\n",
    "classroom = db.classroom.find()\n",
    "\n",
    "# see change in collection\n",
    "for student in classroom:\n",
    "    print(student)"
   ]
  },
  {
   "cell_type": "code",
   "execution_count": 12,
   "metadata": {},
   "outputs": [
    {
     "name": "stdout",
     "output_type": "stream",
     "text": [
      "{'_id': ObjectId('5fe41b1af81430bb63ab2b0e'), 'name': 'Ahmed', 'row': 4, 'favorite_python_library': 'Matplotlib', 'hobbies': ['Running', 'Stargazing', 'Reading', 'Listening to country music']}\n"
     ]
    }
   ],
   "source": [
    "# Add an item to a document array\n",
    "db.classroom.update_one(\n",
    "    {'name': 'Ahmed'},\n",
    "    {'$push':\n",
    "        {'hobbies': 'Listening to country music'}\n",
    "     }\n",
    ")\n",
    "\n",
    "# query the classroom collection\n",
    "classroom = db.classroom.find()\n",
    "\n",
    "# see change in collection\n",
    "for student in classroom:\n",
    "    print(student)"
   ]
  },
  {
   "cell_type": "code",
   "execution_count": 13,
   "metadata": {},
   "outputs": [
    {
     "name": "stdout",
     "output_type": "stream",
     "text": [
      "{'_id': ObjectId('5fe41b1af81430bb63ab2b0e'), 'name': 'Ahmed', 'favorite_python_library': 'Matplotlib', 'hobbies': ['Running', 'Stargazing', 'Reading', 'Listening to country music']}\n"
     ]
    }
   ],
   "source": [
    "# Delete a field from a document\n",
    "db.classroom.update_one({'name': 'Ahmed'},\n",
    "                        {'$unset':\n",
    "                         {'row': \"\"}\n",
    "                         }\n",
    "                        )\n",
    "\n",
    "# query the classroom collection\n",
    "classroom = db.classroom.find()\n",
    "\n",
    "# see change in collection\n",
    "for student in classroom:\n",
    "    print(student)"
   ]
  },
  {
   "cell_type": "code",
   "execution_count": 14,
   "metadata": {},
   "outputs": [],
   "source": [
    "# Delete a document from a collection\n",
    "db.classroom.delete_one(\n",
    "    {'name': 'Ahmed'}\n",
    ")\n",
    "from pprint import pprint\n",
    "\n",
    "# query the classroom collection\n",
    "classroom = db.classroom.find()\n",
    "\n",
    "# see change in collection\n",
    "for student in classroom:\n",
    "    pprint(student)"
   ]
  },
  {
   "cell_type": "code",
   "execution_count": null,
   "metadata": {},
   "outputs": [],
   "source": []
  },
  {
   "cell_type": "markdown",
   "metadata": {},
   "source": [
    "# =========================================="
   ]
  },
  {
   "cell_type": "markdown",
   "metadata": {},
   "source": [
    "### 1.06 Students Do: Mongo Grove (0:25)"
   ]
  },
  {
   "cell_type": "markdown",
   "metadata": {},
   "source": [
    "## Instructions\n",
    "\n",
    "* You are the purchaser for the produce department of a large supermarket chain. You decide to use MongoDB to create a database of fruits received from your various suppliers.\n",
    "\n",
    "### Part I\n",
    "\n",
    "* Use Pymongo to create a `fruits_db` database, and a `fruits` collection.\n",
    "\n",
    "* Into that collection, insert two documents of fruit shipments received by your supermarket. They should contain the following information: vendor name, type of fruit, quantity received, and ripeness rating (1 for unripe, 2 for ripe, 3 for over-ripe).\n",
    "\n",
    "### Part II\n",
    "\n",
    "* Because not every supermarket employee is versed in using MongoDB, your task is to build an easy-to-use app that can be run from the console.\n",
    "\n",
    "* Build a Python script that asks the user for the above information, then inserts a document into a MongoDB database.\n",
    "\n",
    "### Part III\n",
    "\n",
    "* It would be good to Modify the app so that when the record is entered, the current date and time is automatically inserted into the document.\n",
    "\n",
    "* Hint: consult the [documentation](https://docs.python.org/3/library/datetime.html) on the `datetime` library.\n"
   ]
  },
  {
   "cell_type": "code",
   "execution_count": null,
   "metadata": {},
   "outputs": [],
   "source": [
    "# Dependencies\n",
    "import pymongo\n",
    "import datetime"
   ]
  },
  {
   "cell_type": "code",
   "execution_count": null,
   "metadata": {},
   "outputs": [],
   "source": [
    "# The default port used by MongoDB is 27017\n",
    "# https://docs.mongodb.com/manual/reference/default-mongodb-port/\n",
    "conn = 'mongodb://localhost:27017'\n",
    "client = pymongo.MongoClient(conn)\n",
    "\n",
    "# Declare the database\n",
    "db = client.fruits_db\n",
    "\n",
    "# Declare the collection\n",
    "collection = db.fruits_db"
   ]
  },
  {
   "cell_type": "code",
   "execution_count": null,
   "metadata": {},
   "outputs": [],
   "source": [
    "# Part I\n",
    "# A dictionary that represents the document to be inserted\n",
    "post = {\n",
    "    'vendor': 'fruit star',\n",
    "    'fruit': 'raspberry',\n",
    "    'quantity': 21,\n",
    "    'ripeness': 2,\n",
    "    'date': datetime.datetime.utcnow()\n",
    "}\n",
    "# Insert the document into the database\n",
    "# The database and collection, if they don't already exist, will be created at this point.\n",
    "collection.insert_one(post)"
   ]
  },
  {
   "cell_type": "code",
   "execution_count": null,
   "metadata": {},
   "outputs": [],
   "source": [
    "# Part II\n",
    "# Ask the user for input. Store information into variables.\n",
    "vendor = input('Vendor name: ')\n",
    "fruit_type = input('Type of fruit: ')\n",
    "quantity = input('Number of boxes received: ')\n",
    "ripeness = input('Ripeness of fruit (1 is unripe; 2 is ripe, 3 is over-ripe: ')\n",
    "\n",
    "# A dictionary that will become a MongoDB document\n",
    "post = {\n",
    "    'vendor': vendor,\n",
    "    'fruit': fruit_type,\n",
    "    'quantity': quantity,\n",
    "    'ripeness': ripeness,\n",
    "    'date': datetime.datetime.utcnow()\n",
    "}\n",
    "\n",
    "# Insert document into collection\n",
    "collection.insert_one(post)"
   ]
  },
  {
   "cell_type": "code",
   "execution_count": null,
   "metadata": {},
   "outputs": [],
   "source": [
    "# Verify results:\n",
    "results = collection.find()\n",
    "for result in results:\n",
    "    pprint(result)"
   ]
  },
  {
   "cell_type": "markdown",
   "metadata": {},
   "source": [
    "# =========================================="
   ]
  },
  {
   "cell_type": "markdown",
   "metadata": {},
   "source": [
    "### Rating Class Objectives\n",
    "\n",
    "* rate your understanding using 1-5 method in each objective"
   ]
  },
  {
   "cell_type": "code",
   "execution_count": null,
   "metadata": {},
   "outputs": [],
   "source": [
    "objectives = [\n",
    "    \"Create and connect to local MongoDB databases\",\n",
    "    \"Create, read, update, and delete MongoDB documents using the Mongo Shell\",\n",
    "    \"Create simple Python applications that connect to and modify MongoDB databases using the PyMongo library\",\n",
    "]\n",
    "rating = []\n",
    "total = 0\n",
    "for i in range(len(objectives)):\n",
    "    rate = input(objectives[i]+\"? \")\n",
    "    total += int(rate)\n",
    "    rating.append(objectives[i] + \". (\" + rate + \"/5)\")\n",
    "print(\"=\"*96)\n",
    "print(\"My rating today is:\")\n",
    "print(\"-\"*24)\n",
    "for i in rating:\n",
    "    print(i)\n",
    "print(\"-\"*64)\n",
    "print(\"Average: \" + str(total/len(objectives)))"
   ]
  },
  {
   "cell_type": "code",
   "execution_count": null,
   "metadata": {},
   "outputs": [],
   "source": []
  },
  {
   "cell_type": "code",
   "execution_count": null,
   "metadata": {},
   "outputs": [],
   "source": []
  }
 ],
 "metadata": {
  "kernelspec": {
   "display_name": "Python 3",
   "language": "python",
   "name": "python3"
  },
  "language_info": {
   "codemirror_mode": {
    "name": "ipython",
    "version": 3
   },
   "file_extension": ".py",
   "mimetype": "text/x-python",
   "name": "python",
   "nbconvert_exporter": "python",
   "pygments_lexer": "ipython3",
   "version": "3.8.3"
  }
 },
 "nbformat": 4,
 "nbformat_minor": 2
}
