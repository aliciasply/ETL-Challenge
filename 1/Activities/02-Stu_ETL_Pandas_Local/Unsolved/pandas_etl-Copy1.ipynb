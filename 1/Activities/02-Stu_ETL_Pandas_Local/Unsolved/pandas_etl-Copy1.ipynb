{
 "cells": [
  {
   "cell_type": "code",
   "execution_count": 1,
   "metadata": {},
   "outputs": [],
   "source": [
    "import pandas as pd\n",
    "from sqlalchemy import create_engine"
   ]
  },
  {
   "cell_type": "code",
   "execution_count": null,
   "metadata": {},
   "outputs": [
    {
     "name": "stdout",
     "output_type": "stream",
     "text": [
      "Found existing installation: psycopg2-binary 2.8.6\n",
      "Uninstalling psycopg2-binary-2.8.6:\n",
      "  Would remove:\n",
      "    /Users/AliciaLy/anaconda3/lib/python3.8/site-packages/psycopg2/*\n",
      "    /Users/AliciaLy/anaconda3/lib/python3.8/site-packages/psycopg2_binary-2.8.6.dist-info/*\n",
      "Proceed (y/n)? "
     ]
    }
   ],
   "source": [
    "# !pip uninstall psycopg2-binary"
   ]
  },
  {
   "cell_type": "code",
   "execution_count": 7,
   "metadata": {},
   "outputs": [
    {
     "name": "stdout",
     "output_type": "stream",
     "text": [
      "Collecting psycopg2-binary\n",
      "  Using cached psycopg2_binary-2.8.6-cp38-cp38-macosx_10_9_x86_64.macosx_10_9_intel.macosx_10_10_intel.macosx_10_10_x86_64.whl (1.5 MB)\n",
      "Installing collected packages: psycopg2-binary\n",
      "Successfully installed psycopg2-binary-2.8.6\n"
     ]
    }
   ],
   "source": [
    "!pip install psycopg2-binary"
   ]
  },
  {
   "cell_type": "code",
   "execution_count": null,
   "metadata": {},
   "outputs": [],
   "source": [
    "### Extract CSVs into DataFrames"
   ]
  },
  {
   "cell_type": "code",
   "execution_count": 8,
   "metadata": {},
   "outputs": [
    {
     "data": {
      "text/html": [
       "<div>\n",
       "<style scoped>\n",
       "    .dataframe tbody tr th:only-of-type {\n",
       "        vertical-align: middle;\n",
       "    }\n",
       "\n",
       "    .dataframe tbody tr th {\n",
       "        vertical-align: top;\n",
       "    }\n",
       "\n",
       "    .dataframe thead th {\n",
       "        text-align: right;\n",
       "    }\n",
       "</style>\n",
       "<table border=\"1\" class=\"dataframe\">\n",
       "  <thead>\n",
       "    <tr style=\"text-align: right;\">\n",
       "      <th></th>\n",
       "      <th>License Serial Number</th>\n",
       "      <th>Premises Name</th>\n",
       "      <th>License Certificate Number</th>\n",
       "      <th>License Received Date</th>\n",
       "      <th>County ID Code</th>\n",
       "    </tr>\n",
       "  </thead>\n",
       "  <tbody>\n",
       "    <tr>\n",
       "      <th>0</th>\n",
       "      <td>1311660</td>\n",
       "      <td>CANA ARRIBA GROCERY NO 2 INC</td>\n",
       "      <td>NaN</td>\n",
       "      <td>2018-06-29T00:00:00</td>\n",
       "      <td>0</td>\n",
       "    </tr>\n",
       "    <tr>\n",
       "      <th>1</th>\n",
       "      <td>1310023</td>\n",
       "      <td>JOHANA GROCERY &amp; DELI CORP</td>\n",
       "      <td>NaN</td>\n",
       "      <td>2018-04-27T00:00:00</td>\n",
       "      <td>0</td>\n",
       "    </tr>\n",
       "    <tr>\n",
       "      <th>2</th>\n",
       "      <td>1310024</td>\n",
       "      <td>TKO BEVERAGES LLC</td>\n",
       "      <td>NaN</td>\n",
       "      <td>2018-04-27T00:00:00</td>\n",
       "      <td>1</td>\n",
       "    </tr>\n",
       "    <tr>\n",
       "      <th>3</th>\n",
       "      <td>1310024</td>\n",
       "      <td>TKO BEVERAGES LLC</td>\n",
       "      <td>NaN</td>\n",
       "      <td>2018-04-27T00:00:00</td>\n",
       "      <td>1</td>\n",
       "    </tr>\n",
       "    <tr>\n",
       "      <th>4</th>\n",
       "      <td>1311663</td>\n",
       "      <td>181 LEXINGTON AVENUE BBQ LLC</td>\n",
       "      <td>NaN</td>\n",
       "      <td>2018-06-29T00:00:00</td>\n",
       "      <td>2</td>\n",
       "    </tr>\n",
       "  </tbody>\n",
       "</table>\n",
       "</div>"
      ],
      "text/plain": [
       "   License Serial Number                 Premises Name  \\\n",
       "0                1311660  CANA ARRIBA GROCERY NO 2 INC   \n",
       "1                1310023    JOHANA GROCERY & DELI CORP   \n",
       "2                1310024             TKO BEVERAGES LLC   \n",
       "3                1310024             TKO BEVERAGES LLC   \n",
       "4                1311663  181 LEXINGTON AVENUE BBQ LLC   \n",
       "\n",
       "   License Certificate Number License Received Date  County ID Code  \n",
       "0                         NaN   2018-06-29T00:00:00               0  \n",
       "1                         NaN   2018-04-27T00:00:00               0  \n",
       "2                         NaN   2018-04-27T00:00:00               1  \n",
       "3                         NaN   2018-04-27T00:00:00               1  \n",
       "4                         NaN   2018-06-29T00:00:00               2  "
      ]
     },
     "execution_count": 8,
     "metadata": {},
     "output_type": "execute_result"
    }
   ],
   "source": [
    "premise_file = \"../Resources/LicensePremise.csv\"\n",
    "\n",
    "licensepremise_df = pd.read_csv(premise_file)\n",
    "licensepremise_df.head()"
   ]
  },
  {
   "cell_type": "code",
   "execution_count": 9,
   "metadata": {},
   "outputs": [
    {
     "data": {
      "text/html": [
       "<div>\n",
       "<style scoped>\n",
       "    .dataframe tbody tr th:only-of-type {\n",
       "        vertical-align: middle;\n",
       "    }\n",
       "\n",
       "    .dataframe tbody tr th {\n",
       "        vertical-align: top;\n",
       "    }\n",
       "\n",
       "    .dataframe thead th {\n",
       "        text-align: right;\n",
       "    }\n",
       "</style>\n",
       "<table border=\"1\" class=\"dataframe\">\n",
       "  <thead>\n",
       "    <tr style=\"text-align: right;\">\n",
       "      <th></th>\n",
       "      <th>ID</th>\n",
       "      <th>County Name (Licensee)</th>\n",
       "      <th>County ID Code</th>\n",
       "      <th>License Count</th>\n",
       "    </tr>\n",
       "  </thead>\n",
       "  <tbody>\n",
       "    <tr>\n",
       "      <th>0</th>\n",
       "      <td>0</td>\n",
       "      <td>ALBANY</td>\n",
       "      <td>5</td>\n",
       "      <td>77</td>\n",
       "    </tr>\n",
       "    <tr>\n",
       "      <th>1</th>\n",
       "      <td>1</td>\n",
       "      <td>ALLEGANY</td>\n",
       "      <td>59</td>\n",
       "      <td>4</td>\n",
       "    </tr>\n",
       "    <tr>\n",
       "      <th>2</th>\n",
       "      <td>2</td>\n",
       "      <td>BRONX</td>\n",
       "      <td>0</td>\n",
       "      <td>104</td>\n",
       "    </tr>\n",
       "    <tr>\n",
       "      <th>3</th>\n",
       "      <td>3</td>\n",
       "      <td>BROOME</td>\n",
       "      <td>35</td>\n",
       "      <td>14</td>\n",
       "    </tr>\n",
       "    <tr>\n",
       "      <th>4</th>\n",
       "      <td>4</td>\n",
       "      <td>CATTARAUGUS</td>\n",
       "      <td>41</td>\n",
       "      <td>9</td>\n",
       "    </tr>\n",
       "  </tbody>\n",
       "</table>\n",
       "</div>"
      ],
      "text/plain": [
       "   ID County Name (Licensee)  County ID Code  License Count\n",
       "0   0                 ALBANY               5             77\n",
       "1   1               ALLEGANY              59              4\n",
       "2   2                  BRONX               0            104\n",
       "3   3                 BROOME              35             14\n",
       "4   4            CATTARAUGUS              41              9"
      ]
     },
     "execution_count": 9,
     "metadata": {},
     "output_type": "execute_result"
    }
   ],
   "source": [
    "county_file = \"../Resources/CountyLicenseCount.csv\"\n",
    "countylicense_df = pd.read_csv(county_file)\n",
    "countylicense_df.head()"
   ]
  },
  {
   "cell_type": "markdown",
   "metadata": {},
   "source": [
    "### Transform premise DataFrame"
   ]
  },
  {
   "cell_type": "code",
   "execution_count": 10,
   "metadata": {},
   "outputs": [
    {
     "data": {
      "text/html": [
       "<div>\n",
       "<style scoped>\n",
       "    .dataframe tbody tr th:only-of-type {\n",
       "        vertical-align: middle;\n",
       "    }\n",
       "\n",
       "    .dataframe tbody tr th {\n",
       "        vertical-align: top;\n",
       "    }\n",
       "\n",
       "    .dataframe thead th {\n",
       "        text-align: right;\n",
       "    }\n",
       "</style>\n",
       "<table border=\"1\" class=\"dataframe\">\n",
       "  <thead>\n",
       "    <tr style=\"text-align: right;\">\n",
       "      <th></th>\n",
       "      <th>License Serial Number</th>\n",
       "      <th>Premises Name</th>\n",
       "      <th>License Certificate Number</th>\n",
       "      <th>License Received Date</th>\n",
       "      <th>County ID Code</th>\n",
       "    </tr>\n",
       "  </thead>\n",
       "  <tbody>\n",
       "    <tr>\n",
       "      <th>5</th>\n",
       "      <td>1310029</td>\n",
       "      <td>AZIZ DELI &amp; GRILL CORP</td>\n",
       "      <td>849225.0</td>\n",
       "      <td>2018-04-27T00:00:00</td>\n",
       "      <td>1</td>\n",
       "    </tr>\n",
       "    <tr>\n",
       "      <th>15</th>\n",
       "      <td>1307023</td>\n",
       "      <td>JA EXPRESS FOOD CORP</td>\n",
       "      <td>882858.0</td>\n",
       "      <td>2018-05-02T00:00:00</td>\n",
       "      <td>8</td>\n",
       "    </tr>\n",
       "    <tr>\n",
       "      <th>16</th>\n",
       "      <td>1307023</td>\n",
       "      <td>JA EXPRESS FOOD CORP</td>\n",
       "      <td>882858.0</td>\n",
       "      <td>2018-05-02T00:00:00</td>\n",
       "      <td>8</td>\n",
       "    </tr>\n",
       "    <tr>\n",
       "      <th>19</th>\n",
       "      <td>2210440</td>\n",
       "      <td>CANOE HILL VINEYARD LLC</td>\n",
       "      <td>898384.0</td>\n",
       "      <td>2018-05-02T00:00:00</td>\n",
       "      <td>9</td>\n",
       "    </tr>\n",
       "    <tr>\n",
       "      <th>21</th>\n",
       "      <td>1307463</td>\n",
       "      <td>LA REGIA DELI RESTAURANT CORP</td>\n",
       "      <td>863381.0</td>\n",
       "      <td>2018-04-25T00:00:00</td>\n",
       "      <td>10</td>\n",
       "    </tr>\n",
       "  </tbody>\n",
       "</table>\n",
       "</div>"
      ],
      "text/plain": [
       "    License Serial Number                  Premises Name  \\\n",
       "5                 1310029         AZIZ DELI & GRILL CORP   \n",
       "15                1307023           JA EXPRESS FOOD CORP   \n",
       "16                1307023           JA EXPRESS FOOD CORP   \n",
       "19                2210440        CANOE HILL VINEYARD LLC   \n",
       "21                1307463  LA REGIA DELI RESTAURANT CORP   \n",
       "\n",
       "    License Certificate Number License Received Date  County ID Code  \n",
       "5                     849225.0   2018-04-27T00:00:00               1  \n",
       "15                    882858.0   2018-05-02T00:00:00               8  \n",
       "16                    882858.0   2018-05-02T00:00:00               8  \n",
       "19                    898384.0   2018-05-02T00:00:00               9  \n",
       "21                    863381.0   2018-04-25T00:00:00              10  "
      ]
     },
     "execution_count": 10,
     "metadata": {},
     "output_type": "execute_result"
    }
   ],
   "source": [
    "licensepremise_df = licensepremise_df.dropna()\n",
    "licensepremise_df.head()\n"
   ]
  },
  {
   "cell_type": "markdown",
   "metadata": {},
   "source": [
    "### Transform county DataFrame"
   ]
  },
  {
   "cell_type": "code",
   "execution_count": 11,
   "metadata": {},
   "outputs": [
    {
     "data": {
      "text/html": [
       "<div>\n",
       "<style scoped>\n",
       "    .dataframe tbody tr th:only-of-type {\n",
       "        vertical-align: middle;\n",
       "    }\n",
       "\n",
       "    .dataframe tbody tr th {\n",
       "        vertical-align: top;\n",
       "    }\n",
       "\n",
       "    .dataframe thead th {\n",
       "        text-align: right;\n",
       "    }\n",
       "</style>\n",
       "<table border=\"1\" class=\"dataframe\">\n",
       "  <thead>\n",
       "    <tr style=\"text-align: right;\">\n",
       "      <th></th>\n",
       "      <th>ID</th>\n",
       "      <th>County Name (Licensee)</th>\n",
       "      <th>County ID Code</th>\n",
       "      <th>License Count</th>\n",
       "    </tr>\n",
       "  </thead>\n",
       "  <tbody>\n",
       "    <tr>\n",
       "      <th>0</th>\n",
       "      <td>0</td>\n",
       "      <td>ALBANY</td>\n",
       "      <td>5</td>\n",
       "      <td>77</td>\n",
       "    </tr>\n",
       "    <tr>\n",
       "      <th>1</th>\n",
       "      <td>1</td>\n",
       "      <td>ALLEGANY</td>\n",
       "      <td>59</td>\n",
       "      <td>4</td>\n",
       "    </tr>\n",
       "    <tr>\n",
       "      <th>2</th>\n",
       "      <td>2</td>\n",
       "      <td>BRONX</td>\n",
       "      <td>0</td>\n",
       "      <td>104</td>\n",
       "    </tr>\n",
       "    <tr>\n",
       "      <th>3</th>\n",
       "      <td>3</td>\n",
       "      <td>BROOME</td>\n",
       "      <td>35</td>\n",
       "      <td>14</td>\n",
       "    </tr>\n",
       "    <tr>\n",
       "      <th>4</th>\n",
       "      <td>4</td>\n",
       "      <td>CATTARAUGUS</td>\n",
       "      <td>41</td>\n",
       "      <td>9</td>\n",
       "    </tr>\n",
       "  </tbody>\n",
       "</table>\n",
       "</div>"
      ],
      "text/plain": [
       "   ID County Name (Licensee)  County ID Code  License Count\n",
       "0   0                 ALBANY               5             77\n",
       "1   1               ALLEGANY              59              4\n",
       "2   2                  BRONX               0            104\n",
       "3   3                 BROOME              35             14\n",
       "4   4            CATTARAUGUS              41              9"
      ]
     },
     "execution_count": 11,
     "metadata": {},
     "output_type": "execute_result"
    }
   ],
   "source": [
    "countylicense_df = countylicense_df.dropna()\n",
    "countylicense_df.head()"
   ]
  },
  {
   "cell_type": "code",
   "execution_count": 12,
   "metadata": {},
   "outputs": [],
   "source": [
    "# !pip uninstall psycopg2-binary"
   ]
  },
  {
   "cell_type": "code",
   "execution_count": 13,
   "metadata": {},
   "outputs": [],
   "source": [
    "# !pip install psycopg2-binary"
   ]
  },
  {
   "cell_type": "markdown",
   "metadata": {},
   "source": [
    "### Create database connection"
   ]
  },
  {
   "cell_type": "code",
   "execution_count": 14,
   "metadata": {},
   "outputs": [],
   "source": [
    "rds_connection_string = \"alicia:123456@localhost:5432/license_db\"\n",
    "engine = create_engine(f'postgresql://{rds_connection_string}')\n"
   ]
  },
  {
   "cell_type": "code",
   "execution_count": null,
   "metadata": {},
   "outputs": [],
   "source": [
    "# Confirm tables\n"
   ]
  },
  {
   "cell_type": "markdown",
   "metadata": {},
   "source": [
    "### Load DataFrames into database"
   ]
  },
  {
   "cell_type": "code",
   "execution_count": null,
   "metadata": {},
   "outputs": [],
   "source": []
  },
  {
   "cell_type": "code",
   "execution_count": null,
   "metadata": {},
   "outputs": [],
   "source": []
  }
 ],
 "metadata": {
  "kernelspec": {
   "display_name": "Python 3",
   "language": "python",
   "name": "python3"
  },
  "language_info": {
   "codemirror_mode": {
    "name": "ipython",
    "version": 3
   },
   "file_extension": ".py",
   "mimetype": "text/x-python",
   "name": "python",
   "nbconvert_exporter": "python",
   "pygments_lexer": "ipython3",
   "version": "3.8.3"
  }
 },
 "nbformat": 4,
 "nbformat_minor": 2
}
